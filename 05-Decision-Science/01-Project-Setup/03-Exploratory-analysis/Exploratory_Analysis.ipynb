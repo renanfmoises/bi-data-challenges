{
 "cells": [
  {
   "cell_type": "markdown",
   "metadata": {},
   "source": [
    "# Exploratory Analysis"
   ]
  },
  {
   "cell_type": "markdown",
   "metadata": {},
   "source": [
    "**_Author: Juan_David_Casas**\n"
   ]
  },
  {
   "cell_type": "markdown",
   "metadata": {},
   "source": [
    "## Exercise Overview\n",
    "\n",
    "In this exercise, we will use the keys from each table in order to merge them and have all the information we need to start doing descriptive statistical analysis.\n",
    "\n",
    "We will use  : \n",
    " - Relational database keys\n",
    " - Table Merges\n",
    " - Group by\n",
    " - Basic Pivot Tables\n",
    " - Pivot tables with merged tables\n",
    " \n",
    "### Learning Objectives\n",
    "\n",
    "- Understand the links between our different tables \n",
    "- Create tables with the columns that will help us identify significant features for our analysis\n"
   ]
  },
  {
   "cell_type": "markdown",
   "metadata": {},
   "source": [
    "## Our Analysis in this business case will be mainly based on review_score"
   ]
  },
  {
   "cell_type": "markdown",
   "metadata": {},
   "source": [
    "------> **Why ?**"
   ]
  },
  {
   "cell_type": "markdown",
   "metadata": {},
   "source": [
    "We will assume that we have an estimate measure of the monetary cost for each bad review:"
   ]
  },
  {
   "cell_type": "markdown",
   "metadata": {},
   "source": [
    "**Cost**\n",
    "\n",
    "In the long term, bad customer experience has business implications: low repeat rate, immediate customer support cost, refunds or unfavorable word of mouth communication. \n",
    "\n",
    "\t\n",
    "\n",
    "| review_score | cost (BRL) |\n",
    "| ----------- | ----------- |\n",
    "| 1 star | 100 |\n",
    "| 2 stars | 50 |\n",
    "| 3 stars | 40 |\n",
    "| 4 stars | 0 |\n",
    "| 5 star | 0 |\n"
   ]
  },
  {
   "cell_type": "markdown",
   "metadata": {},
   "source": [
    "####  💡 Please just keep this information in your head, it's not time yet to add this cost reviews into our database.... don't worry we will do it later !!! ###"
   ]
  },
  {
   "cell_type": "markdown",
   "metadata": {},
   "source": [
    "❓Plot a histogram of `review_score`. How many valid reviews do we have in total?"
   ]
  },
  {
   "cell_type": "markdown",
   "metadata": {},
   "source": [
    "<details>\n",
    "<summary>✔️ Hint (click)</summary>\n",
    "<br> Try creating a pivot table on review score before plotting</details>"
   ]
  },
  {
   "cell_type": "code",
   "execution_count": null,
   "metadata": {},
   "outputs": [],
   "source": []
  },
  {
   "cell_type": "markdown",
   "metadata": {},
   "source": [
    "\n",
    "❓ Plot a histogram of `order_status`\n",
    "- We already know from our data schema that each `review` has a unique `order`.\n",
    "- Do bad `reviews` come from delivered `orders` ?\n",
    "\n"
   ]
  },
  {
   "cell_type": "markdown",
   "metadata": {},
   "source": [
    "<details>\n",
    "<summary>✔️ Hint (click)</summary>\n",
    "<br> Try merging the tables orders and rorder reviews before making your pivot table</details>"
   ]
  },
  {
   "cell_type": "markdown",
   "metadata": {},
   "source": [
    "## Merging tables"
   ]
  },
  {
   "cell_type": "markdown",
   "metadata": {},
   "source": [
    "On your `Queries and connections` menu left click on the query that you want to merge and this table should show up, select the second table and the typer of merge you want to do : "
   ]
  },
  {
   "cell_type": "markdown",
   "metadata": {},
   "source": [
    "![data_columns](https://github.com/dajuca/images/blob/main/merging_tables.png?raw=true)"
   ]
  },
  {
   "cell_type": "markdown",
   "metadata": {},
   "source": [
    "## 2 - Evolution of key business metrics over the past 14 months"
   ]
  },
  {
   "cell_type": "markdown",
   "metadata": {},
   "source": [
    "- Which metric would you use as a key business output metric for Olist? \n",
    "- Which metric would you use to measure that a customer had a good experience with Olist? \n",
    "- Which metric would you use to measure shipping delay?\n",
    "- For each metric, plot a trend line over time."
   ]
  },
  {
   "cell_type": "markdown",
   "metadata": {},
   "source": [
    "### Metric 1: Customer Satisfaction\n",
    "❓Plot monthly customer satisfaction, as mean review_score"
   ]
  },
  {
   "cell_type": "markdown",
   "metadata": {},
   "source": [
    "### Metric 2: Shipping delay"
   ]
  },
  {
   "cell_type": "markdown",
   "metadata": {},
   "source": [
    "❓Create two new metrics, `delay_vs_expected` , `wait_time` and `expected_wait_time` in **days**, from the `orders` dataset, and plot their historical evolution to check for any noticeable trends"
   ]
  },
  {
   "cell_type": "markdown",
   "metadata": {},
   "source": [
    "<details>\n",
    "    <summary>✔️Hint</summary>\n",
    "    \n",
    "Use the `Add Column `,`Custom Column` option in Power Query ! Don't forget to change the type of the column to days after the calculation in order to make your pivot table later ;) ! \n",
    "    \n",
    "    \n",
    " ![data_columns_2](https://github.com/dajuca/images/blob/main/custom_column.png?raw=true)\n",
    "\n",
    "delay_vs_expected = order_estimated_delivery_date - order_delivered_customer_date\n",
    "    \n",
    "wait_time = order_delivered_customer_date - order_purchase_timestamp\n",
    "\n",
    " expected_wait_time = order_estimated_delivery_date - order_purchase_timestamp\n",
    "\n",
    "</details>\n",
    "\n"
   ]
  },
  {
   "cell_type": "markdown",
   "metadata": {},
   "source": [
    "--> What can you tell from these line charts? "
   ]
  },
  {
   "cell_type": "markdown",
   "metadata": {},
   "source": [
    "### Metric 3: Order numbers\n",
    "\n",
    "❓  First, plot numbers of daily total orders (to check how business is going)  \n",
    "Then, also plot the daily number of non-delivered orders (to check for any potential issues)\n",
    "\n",
    "<details>\n",
    "    <summary>✔️Hint</summary>\n",
    "    \n",
    "    \n",
    "Make sure you converted dates to just date objects instead of date/time  \n",
    "</details>"
   ]
  },
  {
   "cell_type": "markdown",
   "metadata": {},
   "source": [
    "    Optional --> Try to regroup the dates by week in order to have a better view "
   ]
  },
  {
   "cell_type": "markdown",
   "metadata": {},
   "source": [
    "### (optional): Total payment values\n",
    "❓Instead of a number of orders, look at the daily sum of `payment_value` in `BRL` to get a proxy for Olist's weekly revenue"
   ]
  }
 ],
 "metadata": {
  "kernelspec": {
   "display_name": "Python 3",
   "language": "python",
   "name": "python3"
  },
  "language_info": {
   "codemirror_mode": {
    "name": "ipython",
    "version": 3
   },
   "file_extension": ".py",
   "mimetype": "text/x-python",
   "name": "python",
   "nbconvert_exporter": "python",
   "pygments_lexer": "ipython3",
   "version": "3.7.7"
  },
  "toc": {
   "base_numbering": 1,
   "nav_menu": {},
   "number_sections": true,
   "sideBar": true,
   "skip_h1_title": false,
   "title_cell": "Table of Contents",
   "title_sidebar": "Contents",
   "toc_cell": false,
   "toc_position": {},
   "toc_section_display": true,
   "toc_window_display": false
  }
 },
 "nbformat": 4,
 "nbformat_minor": 5
}
