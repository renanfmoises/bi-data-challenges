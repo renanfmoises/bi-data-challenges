{
 "cells": [
  {
   "cell_type": "markdown",
   "metadata": {},
   "source": [
    "# Data Preparation|"
   ]
  },
  {
   "cell_type": "markdown",
   "metadata": {},
   "source": [
    "**_Author: Juan_David_Casas**\n"
   ]
  },
  {
   "cell_type": "markdown",
   "metadata": {},
   "source": [
    "## Assignment Overview\n",
    "\n",
    "In this assignment, we will import the data from Kaggle into Excel using Power Query.\n",
    "After reiterating the foundations of the past modules regarding Excel, we will clean the data trough Power Query. \n",
    "\n",
    "This will allow us to: \n",
    " - check the different data types of the columns in our tables \n",
    " - to `fill in` missing values\n",
    " - take care of `NA` values\n",
    " - Use statistical descriptive approach to understand the data\n",
    "\n",
    "### Learning Objectives\n",
    "\n",
    "- Import CSV files to Excel\n",
    "- Use PowerQuery to prepare the data\n",
    "- Use statistical descriptive analysis on different variables\n"
   ]
  },
  {
   "cell_type": "markdown",
   "metadata": {},
   "source": [
    "### Data Workflow"
   ]
  },
  {
   "cell_type": "markdown",
   "metadata": {},
   "source": [
    "In order to treat this business case it's useful to understand the basic workflow of out data using Excel and Power Query:"
   ]
  },
  {
   "cell_type": "markdown",
   "metadata": {},
   "source": [
    "![Excelenvironment](https://github.com/dajuca/images/blob/main/Excel_environment.png?raw=true)"
   ]
  },
  {
   "cell_type": "markdown",
   "metadata": {},
   "source": [
    "### Importing the data as a file with an absolute path"
   ]
  },
  {
   "cell_type": "markdown",
   "metadata": {},
   "source": [
    "Our goal is to load all 8 csvs in a single folder named `data`. Please download them and save them on the data folder where you will import them on Excel: "
   ]
  },
  {
   "cell_type": "markdown",
   "metadata": {},
   "source": [
    "![importing_data](https://github.com/dajuca/images/blob/main/import_csv.png?raw=true)"
   ]
  },
  {
   "cell_type": "markdown",
   "metadata": {},
   "source": [
    "One of the problems importing files this way is that they will have the relative path to your computer. That means that when sending this file to a client, he won't be able to acces the queries since he won't have the same path structure as you do: "
   ]
  },
  {
   "cell_type": "markdown",
   "metadata": {},
   "source": [
    "![importing_data](https://github.com/dajuca/images/blob/main/file_path.png?raw=true)"
   ]
  },
  {
   "cell_type": "markdown",
   "metadata": {},
   "source": [
    "As you can see, PowerQuery is importing the CSV in `C:\\Users\\judav\\Documents\\Olist_Aout\\data\\olist_orders_dataset.csv` and this path is only going to work in the computer of that specific user. So we will have to change this **absolute path** to a **relative path** in order to make it work for anyone:\n",
    "- First you want to find out the path where your document is saved. For this, you will input in your Excel (the one where you will be making all your queries and calculations) the following formula:\n",
    "\n",
    "        =LEFT(CELL(\"filename\",$A$1),FIND(\"[\",CELL(\"filename\",$A$1),1)-1) \n",
    "        \n",
    "       👉 This will allow you to find the path where your document is saved on your computer \n",
    "\n",
    "- Then you will rename the cell `Filepath`\n",
    "![importing_data](https://github.com/dajuca/images/blob/main/Filepath_var.png?raw=true)\n",
    "\n",
    "- Afterwards, open you powerquery editor and for each of the CSVs you imported click on the `Advanced Editor` on the `Home` tab, then copy the following line in all of your CSVs:\n",
    "\n",
    "       Filepath = Excel.CurrentWorkbook(){[Name=\"Filepath\"]}[Content]{0}[Column1],\n",
    "       \n",
    "- Finally erase the path put by default on the  `Source` line and change it to  `Filepath & [\"name_of_your_csv.csv\"]`. Your code should look something like this: \n",
    "![importing_data](https://github.com/dajuca/images/blob/main/advanced_editor.png?raw=true)\n",
    "\n"
   ]
  },
  {
   "cell_type": "markdown",
   "metadata": {},
   "source": [
    "### Checking data types and cleaning the db\n"
   ]
  },
  {
   "cell_type": "markdown",
   "metadata": {},
   "source": [
    "Now that you have all your tables imported into Power Query it's time to check the different data types and missing values: \n",
    "\n",
    "In the View tab check: \n",
    "\n",
    "\n",
    "- [x] Column quality\n",
    "- [x] Column distribution\n",
    "- [x] Column profile"
   ]
  },
  {
   "cell_type": "markdown",
   "metadata": {},
   "source": [
    "![data_columns](https://github.com/dajuca/images/blob/main/data_columns.png?raw=true)"
   ]
  },
  {
   "cell_type": "markdown",
   "metadata": {},
   "source": [
    "#### First steps of cleaning the data"
   ]
  },
  {
   "cell_type": "markdown",
   "metadata": {},
   "source": [
    "- Make sure that the datatypes correspond to each of the columns shown in PowerQuery (if that's not the case, change them to the right ones)\n",
    "- Change the first rows as first rows as headers\n",
    "- You also want to make sure dates are shown without the time (it will be easier to use them later 😉) "
   ]
  },
  {
   "cell_type": "markdown",
   "metadata": {},
   "source": [
    "<details>\n",
    "<summary>✔️ Hint (click)</summary>\n",
    "<br> Left click on the column with the dates and click on change type, instead of Date/time just select Date and then select add new step</details>"
   ]
  },
  {
   "cell_type": "markdown",
   "metadata": {},
   "source": [
    "- Also don't forget to rename steps in order to keep track of your actions\n",
    "- You can clean your data just by left clicking on the column 👉 Here we will remove empty in order to have a cleaner db"
   ]
  },
  {
   "cell_type": "markdown",
   "metadata": {},
   "source": [
    "❗❗       **You can check not only the errors and missing values but also the number of distinct and unique values in each column of your dataset**  ❗❗\n",
    "   "
   ]
  },
  {
   "cell_type": "code",
   "execution_count": null,
   "metadata": {},
   "outputs": [],
   "source": []
  }
 ],
 "metadata": {
  "kernelspec": {
   "display_name": "Python 3",
   "language": "python",
   "name": "python3"
  },
  "language_info": {
   "codemirror_mode": {
    "name": "ipython",
    "version": 3
   },
   "file_extension": ".py",
   "mimetype": "text/x-python",
   "name": "python",
   "nbconvert_exporter": "python",
   "pygments_lexer": "ipython3",
   "version": "3.7.7"
  },
  "toc": {
   "base_numbering": 1,
   "nav_menu": {},
   "number_sections": true,
   "sideBar": true,
   "skip_h1_title": false,
   "title_cell": "Table of Contents",
   "title_sidebar": "Contents",
   "toc_cell": false,
   "toc_position": {},
   "toc_section_display": true,
   "toc_window_display": false
  }
 },
 "nbformat": 4,
 "nbformat_minor": 5
}
