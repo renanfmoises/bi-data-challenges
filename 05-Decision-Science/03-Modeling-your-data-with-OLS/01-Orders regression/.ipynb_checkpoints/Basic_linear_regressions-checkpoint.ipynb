{
 "cells": [
  {
   "cell_type": "markdown",
   "id": "a7f9952e",
   "metadata": {},
   "source": [
    "# Orders - Multivariate Regression of review_score"
   ]
  },
  {
   "cell_type": "markdown",
   "id": "c1e14d5f",
   "metadata": {},
   "source": [
    "Let's recall our simple analysis from yesterday's exercice: \n",
    "\n",
    "Based on our correlation matrix below, we noticed that `review_score` is mostly correlated with the two features `wait_time` and `delay_vs_expected`. However, these two features are also highly correlated together. In this exercise, we will use `Excel Data Analyze` to distinguish the effect of one feature, **holding the other one constant**."
   ]
  },
  {
   "cell_type": "markdown",
   "id": "6a815c8e",
   "metadata": {},
   "source": [
    "![data_columns](correlations.png)"
   ]
  },
  {
   "cell_type": "code",
   "execution_count": null,
   "id": "6b5d94bf",
   "metadata": {},
   "outputs": [],
   "source": []
  }
 ],
 "metadata": {
  "kernelspec": {
   "display_name": "Python 3",
   "language": "python",
   "name": "python3"
  },
  "language_info": {
   "codemirror_mode": {
    "name": "ipython",
    "version": 3
   },
   "file_extension": ".py",
   "mimetype": "text/x-python",
   "name": "python",
   "nbconvert_exporter": "python",
   "pygments_lexer": "ipython3",
   "version": "3.8.8"
  }
 },
 "nbformat": 4,
 "nbformat_minor": 5
}
