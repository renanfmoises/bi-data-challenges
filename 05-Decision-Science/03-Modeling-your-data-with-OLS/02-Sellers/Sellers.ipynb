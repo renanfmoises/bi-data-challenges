{
 "cells": [
  {
   "cell_type": "markdown",
   "metadata": {},
   "source": [
    "# Sellers"
   ]
  },
  {
   "cell_type": "markdown",
   "metadata": {},
   "source": [
    "Our goal is to find Sellers that repeatedly underperform vs others, and understand why.  \n",
    "This will help us shape our recommendations on how to improve Olist's profit margin"
   ]
  },
  {
   "cell_type": "markdown",
   "metadata": {},
   "source": [
    "## 1 - Create a Sellers Query with the following elements "
   ]
  },
  {
   "cell_type": "markdown",
   "metadata": {},
   "source": [
    "- Create a table  `get_training_data` that will return the following DataFrame:\n",
    "\n",
    "  - `seller_id` (_str_) _the id of the seller **UNIQUE**\n",
    "  - `delay_to_carrier` (_float_) _Average delay_to_carrier per seller. Return 0 if the order is delivered before the shipping_limit_date, otherwise 0_\n",
    "  - `wait_time` (_float_) _Average wait_time (duration of deliveries) per seller_\n",
    "  - `share_of_five_stars` (_float_) _The share of five star orders for orders in which the seller was involved_\n",
    "  - `share_of_one_stars` (_float_) _The share of one star orders for orders in which the seller was involved_\n",
    "  - `review_score` (_float_) _The average review score for orders in which the seller was involved_\n",
    "  - `n_orders` (_int_) _The number of unique orders the seller was involved with._\n",
    "  - `quantity` (_int_) _The total number of items sold by this seller_\n",
    "  - `quantity_per_order`(_float_) _The mean number of items per order for this seller_\n",
    "  - `sales` (_float_) _The total sales associated with this seller (excluding freight value)_ in BRL\n",
    "  - `date_first_sale` (_datetime_) _Date of first sales on Olist_\n",
    "  - `date_last_sale` (_datetime_) _Date of last sales on Olist_\n",
    "  \n",
    "Feel free to build all intermediary tables below if you prefer to breakdown the problem step by step."
   ]
  },
  {
   "cell_type": "markdown",
   "metadata": {},
   "source": [
    "### `get_seller_features`\n",
    "Returns a Table with: 'seller_id', 'seller_city', 'seller_state'"
   ]
  },
  {
   "cell_type": "markdown",
   "metadata": {},
   "source": [
    "### `get_seller_delay_wait_time`\n",
    "Returns a Table with: 'seller_id', 'delay_to_carrier', 'wait_time'"
   ]
  },
  {
   "cell_type": "markdown",
   "metadata": {},
   "source": [
    "### `get_active_dates`\n",
    "Returns a Table with 'seller_id', 'date_first_sale', 'date_last_sale'"
   ]
  },
  {
   "cell_type": "markdown",
   "metadata": {},
   "source": [
    "### `get_review_score`\n",
    "['seller_id', 'share_of_five_stars', 'share_of_one_stars', 'review_score']"
   ]
  },
  {
   "cell_type": "markdown",
   "metadata": {},
   "source": [
    "### `get_quantity`\n",
    "['seller_id', 'n_orders', 'quantity']"
   ]
  },
  {
   "cell_type": "markdown",
   "metadata": {},
   "source": [
    "### `get_sales`\n",
    "['seller_id', 'sales']"
   ]
  },
  {
   "cell_type": "markdown",
   "metadata": {},
   "source": [
    "## 2 - Exploration"
   ]
  },
  {
   "cell_type": "markdown",
   "metadata": {},
   "source": [
    "### 2.1 - Plots"
   ]
  },
  {
   "cell_type": "markdown",
   "metadata": {},
   "source": [
    "❓ Let's start as you always should to use the `Data Analyze` add-in to describe the different variables and then to plot the distribution histograms as we did for the Orders\n",
    "\n",
    "- Check the distribution of each numerical variable of our new Seller's table\n",
    "- Do you notice any outliers?"
   ]
  },
  {
   "cell_type": "code",
   "execution_count": null,
   "metadata": {},
   "outputs": [],
   "source": [
    "# Your answer"
   ]
  },
  {
   "cell_type": "markdown",
   "metadata": {},
   "source": [
    "### 2.2 - Model out `review_score` with OLS"
   ]
  },
  {
   "cell_type": "markdown",
   "metadata": {},
   "source": [
    "❓ A more rigorous way to explain sellers' review_score is to **model out the impact of various features on `review_score` with a multivariate-OLS with the `Data Analyze` add-in\n",
    "\n",
    "Create an OLS with only the numerical features of your choice. What are the most impactful ones? (if you want to be rigurous, don't forget to standardize you data as we did on the Orders analysis. It will allow you to compare coefficients that have that are on the same scale)"
   ]
  },
  {
   "cell_type": "code",
   "execution_count": null,
   "metadata": {},
   "outputs": [],
   "source": [
    "# Your answer"
   ]
  },
  {
   "cell_type": "markdown",
   "metadata": {},
   "source": [
    "❓ Finally, investigate your model's performance (r-squared) and residuals "
   ]
  },
  {
   "cell_type": "markdown",
   "metadata": {},
   "source": [
    "<details>\n",
    "    <summary>Hint</summary>\n",
    "    \n",
    "\n",
    "You can plot the residuals and the Fit plot just by checking in the option in the regression menu\n",
    "</details>\n"
   ]
  },
  {
   "cell_type": "code",
   "execution_count": null,
   "metadata": {},
   "outputs": [],
   "source": [
    "# Your answer"
   ]
  },
  {
   "cell_type": "markdown",
   "metadata": {},
   "source": [
    "### 2.3 - Optional  -  Add seller_state to your analysis"
   ]
  },
  {
   "cell_type": "markdown",
   "metadata": {},
   "source": [
    "Linear regressions only accept numerical variables as input to their model but what about Seller state or other features that have information within them and are not numerical ?? You will have to encode them as `Dummy Variables` and add them in your OLS regression. If you have the time explore this possibility ! "
   ]
  },
  {
   "cell_type": "code",
   "execution_count": null,
   "metadata": {
    "scrolled": true
   },
   "outputs": [],
   "source": []
  }
 ],
 "metadata": {
  "kernelspec": {
   "display_name": "Python 3",
   "language": "python",
   "name": "python3"
  },
  "language_info": {
   "codemirror_mode": {
    "name": "ipython",
    "version": 3
   },
   "file_extension": ".py",
   "mimetype": "text/x-python",
   "name": "python",
   "nbconvert_exporter": "python",
   "pygments_lexer": "ipython3",
   "version": "3.7.7"
  },
  "toc": {
   "base_numbering": 1,
   "nav_menu": {},
   "number_sections": true,
   "sideBar": true,
   "skip_h1_title": false,
   "title_cell": "Table of Contents",
   "title_sidebar": "Contents",
   "toc_cell": false,
   "toc_position": {},
   "toc_section_display": true,
   "toc_window_display": false
  }
 },
 "nbformat": 4,
 "nbformat_minor": 5
}
