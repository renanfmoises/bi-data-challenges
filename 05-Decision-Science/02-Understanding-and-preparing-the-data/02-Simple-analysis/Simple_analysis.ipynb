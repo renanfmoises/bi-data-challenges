{
 "cells": [
  {
   "cell_type": "markdown",
   "metadata": {},
   "source": [
    "# Simple orders analysis"
   ]
  },
  {
   "cell_type": "markdown",
   "metadata": {},
   "source": [
    "We are finally ready to start analysing our order data!\n",
    "\n",
    "     So we are going to start analyzing the QUERY that has the following columns :\n",
    "     ['order_id', 'wait_time', 'expected_wait_time', 'delay_vs_expected',\n",
    "       'order_status', 'dim_is_five_star', 'dim_is_one_star', 'review_score',\n",
    "       'number_of_products', 'price', 'freight_value']\n",
    "\n",
    "Our objective is to get an initial understanding of\n",
    "- Orders properties\n",
    "- Their associated `review_scores`"
   ]
  },
  {
   "cell_type": "markdown",
   "metadata": {},
   "source": [
    "## 1 - Inspect features"
   ]
  },
  {
   "cell_type": "markdown",
   "metadata": {},
   "source": [
    "❓ Print summary statistics on the Data tab --> `Data Analysis - Descriptive Statistics` of each column of the order table, and in particular `wait_time`\n",
    "\n",
    "Plot all feature histograms to get a sense of each variable's distribution."
   ]
  },
  {
   "cell_type": "markdown",
   "metadata": {},
   "source": [
    "<details>\n",
    "<summary>✔️ Hint (click)</summary>\n",
    "<br> Try the histogram option on the Data Analysis tool. You will have to create your own bins depending on the range of your data</details>\n"
   ]
  },
  {
   "cell_type": "code",
   "execution_count": null,
   "metadata": {},
   "outputs": [],
   "source": []
  },
  {
   "cell_type": "markdown",
   "metadata": {},
   "source": [
    "\n",
    "❓Inspect the various correlations between features: which one seems most correlated with `review_score`?\n",
    "\n",
    "<details>\n",
    "<summary>✔️ Hint (click)</summary>\n",
    "<br> Try the correlation option on the Data Analysis tool</details>"
   ]
  },
  {
   "cell_type": "markdown",
   "metadata": {},
   "source": [
    "#### If you want to pimp a little bit your correlations table you can add a color  conditional formating : "
   ]
  },
  {
   "cell_type": "markdown",
   "metadata": {},
   "source": [
    "![data_columns](https://github.com/dajuca/images/blob/main/conditional.png?raw=true)"
   ]
  },
  {
   "cell_type": "markdown",
   "metadata": {},
   "source": [
    "What can you conclude regarding the correlations ? "
   ]
  },
  {
   "cell_type": "code",
   "execution_count": null,
   "metadata": {},
   "outputs": [],
   "source": []
  },
  {
   "cell_type": "markdown",
   "metadata": {},
   "source": [
    "###  Remember that correlations are an important business tool that allows to see how one variable fluctuates related to another one"
   ]
  },
  {
   "cell_type": "code",
   "execution_count": null,
   "metadata": {},
   "outputs": [],
   "source": []
  }
 ],
 "metadata": {
  "kernelspec": {
   "display_name": "Python 3",
   "language": "python",
   "name": "python3"
  },
  "language_info": {
   "codemirror_mode": {
    "name": "ipython",
    "version": 3
   },
   "file_extension": ".py",
   "mimetype": "text/x-python",
   "name": "python",
   "nbconvert_exporter": "python",
   "pygments_lexer": "ipython3",
   "version": "3.7.7"
  },
  "toc": {
   "base_numbering": 1,
   "nav_menu": {},
   "number_sections": true,
   "sideBar": true,
   "skip_h1_title": false,
   "title_cell": "Table of Contents",
   "title_sidebar": "Contents",
   "toc_cell": false,
   "toc_position": {},
   "toc_section_display": true,
   "toc_window_display": false
  }
 },
 "nbformat": 4,
 "nbformat_minor": 5
}
