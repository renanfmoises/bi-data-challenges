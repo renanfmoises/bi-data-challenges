{
 "cells": [
  {
   "cell_type": "markdown",
   "metadata": {},
   "source": [
    "# Orders"
   ]
  },
  {
   "cell_type": "markdown",
   "metadata": {},
   "source": [
    "**_Author: Juan_David_Casas**\n"
   ]
  },
  {
   "cell_type": "markdown",
   "metadata": {},
   "source": [
    "## Exercise Overview\n",
    "\n",
    "In this exercise, we will merge tables that will allow us to integrate `the Data Analysis Add-in` package in Excel. This way we can start making an exploratory analysis and use some statistical tools to see which are the most important variables in our data\n",
    "\n",
    "We will use  : \n",
    " - Merges\n",
    " - Descriptive Anlaysis\n",
    " - Correlations\n",
    " - Distributions\n",
    " \n",
    "### Learning Objectives\n",
    "\n",
    "- Get at ease with the Data Analysis Add in\n",
    "- Be able to start looking for important variables in any database\n",
    "- Improve your basic Data Analyst reflexes by checking basic indicators such as the distribution, the correlation etc.\n"
   ]
  },
  {
   "cell_type": "markdown",
   "metadata": {},
   "source": [
    "✏️ **Exercise**\n",
    "\n",
    "Today, we will investigate the **orders**, and their associated review score.\n",
    "\n",
    "For that purpose, we will create one single table containing **all unique orders as index and all properties of these orders as columns.**\n",
    "\n",
    "Our goal is to create the following Table, which will come in very handy for our modeling phase\n",
    "\n",
    "  - `order_id` (_str) the id of the order_\n",
    "  - `wait_time` (_float) the number of days between order_date and delivered_date_\n",
    "  - `delay_vs_expected` (_float) if the actual delivery date is later than the estimated delivery date, returns the absolute number of days between the two dates, otherwise return 0_\n",
    "  - `dim_is_five_star` (_int) 1 if the order received a five_star, 0 otherwise_\n",
    "  - `dim_is_one_star` (_int) 1 if the order received a one_star, 0 otherwise_\n",
    "  - `review_score`(_int) from 1 to 5_\n",
    "  - `number_of_product` (_int) number of products that the order contains_\n",
    "  - `number_of_sellers` (_int) number of sellers involved in the order_\n",
    "  - `price` (_float) total price of the order paid by customer_\n",
    "  - `freight_value` (_float) value of the freight paid by customer_\n",
    "\n",
    "  \n",
    "We also want to filter out \"non-delivered\" orders, unless explicitly specified"
   ]
  },
  {
   "cell_type": "markdown",
   "metadata": {},
   "source": [
    "You already should have wait_time and delay_vs_expected since we created them in a past challenge"
   ]
  },
  {
   "cell_type": "markdown",
   "metadata": {},
   "source": [
    "### get_wait_time\n",
    "    Return a table with [order_id, wait_time, expected_wait_time ,delay_vs_expected, order status]"
   ]
  },
  {
   "cell_type": "markdown",
   "metadata": {},
   "source": [
    " You can duplicate your orders table so you can keep the other columns in the original one. We will call this one `get_wait_time`. It should look like this: "
   ]
  },
  {
   "cell_type": "markdown",
   "metadata": {},
   "source": [
    "![data_columns](https://github.com/dajuca/images/blob/main/get_wait_time.png?raw=true)"
   ]
  },
  {
   "cell_type": "markdown",
   "metadata": {},
   "source": [
    "### handle delay\n",
    "If our delay_vs_expected is < 0 then we will return the absolute value, if not we will return 0. What we are trying to do here is to just emphasize into the orders that were delivered after the expected date not the ones that were delivered before"
   ]
  },
  {
   "cell_type": "markdown",
   "metadata": {},
   "source": [
    "    WE hope clients will be happy if the got delivered before the expected wait time 😀"
   ]
  },
  {
   "cell_type": "markdown",
   "metadata": {},
   "source": [
    "<details>\n",
    "<summary>✔️ Hint (click)</summary>\n",
    "<br> Try the conditional column tool in Add column</details>"
   ]
  },
  {
   "cell_type": "markdown",
   "metadata": {},
   "source": [
    "### get_review_score\n",
    "     Return a Table with:\n",
    "        order_id, dim_is_five_star, dim_is_one_star, review_score"
   ]
  },
  {
   "cell_type": "markdown",
   "metadata": {},
   "source": [
    "We will keep using this conditional column tool in order to create these two new columns (dim_is_five_star, dim_is_one_star). If the review is 5 stars then  there will be a 1 in the dim_is_five_star column else a 0. Same logic for the other one! "
   ]
  },
  {
   "cell_type": "code",
   "execution_count": null,
   "metadata": {},
   "outputs": [],
   "source": []
  },
  {
   "cell_type": "markdown",
   "metadata": {},
   "source": [
    "You should have a table that looks like this:"
   ]
  },
  {
   "cell_type": "markdown",
   "metadata": {},
   "source": [
    "![data_2](https://github.com/dajuca/images/blob/main/dim_is_1_5.png?raw=true)"
   ]
  },
  {
   "cell_type": "markdown",
   "metadata": {},
   "source": [
    "### get_number_sellers:\n",
    "     Create a table with:\n",
    "        order_id, number_of_sellers (total number of unique sellers per order)"
   ]
  },
  {
   "cell_type": "code",
   "execution_count": null,
   "metadata": {},
   "outputs": [],
   "source": []
  },
  {
   "cell_type": "markdown",
   "metadata": {},
   "source": [
    "### get_number_products(self):\n",
    "     Create a table with:\n",
    "        order_id, number_of_products (total number of products per order)"
   ]
  },
  {
   "cell_type": "code",
   "execution_count": null,
   "metadata": {},
   "outputs": [],
   "source": []
  },
  {
   "cell_type": "markdown",
   "metadata": {},
   "source": [
    "### get_price_and_freight\n",
    "     Create a table with:\n",
    "        order_id, price, freight_value"
   ]
  },
  {
   "cell_type": "markdown",
   "metadata": {},
   "source": [
    "<details>\n",
    "<summary>✔️ Hint (click)</summary>\n",
    "\n",
    "<br> On the Group by menu you can choose the advanced option. This will allow you to group by a particular column and agreggate other columns with different operations (sum, average, count, etc.)</details>\n",
    "\n"
   ]
  },
  {
   "cell_type": "code",
   "execution_count": null,
   "metadata": {},
   "outputs": [],
   "source": []
  },
  {
   "cell_type": "markdown",
   "metadata": {},
   "source": [
    "###  Remember that you can either do all this with Power Query or a pivot table. Please try them both and try to privilege Power Query since you will be using it on day 4 with Power BI"
   ]
  },
  {
   "cell_type": "code",
   "execution_count": null,
   "metadata": {},
   "outputs": [],
   "source": []
  }
 ],
 "metadata": {
  "kernelspec": {
   "display_name": "Python 3",
   "language": "python",
   "name": "python3"
  },
  "language_info": {
   "codemirror_mode": {
    "name": "ipython",
    "version": 3
   },
   "file_extension": ".py",
   "mimetype": "text/x-python",
   "name": "python",
   "nbconvert_exporter": "python",
   "pygments_lexer": "ipython3",
   "version": "3.7.4"
  },
  "toc": {
   "base_numbering": 1,
   "nav_menu": {},
   "number_sections": true,
   "sideBar": true,
   "skip_h1_title": false,
   "title_cell": "Table of Contents",
   "title_sidebar": "Contents",
   "toc_cell": false,
   "toc_position": {},
   "toc_section_display": true,
   "toc_window_display": false
  }
 },
 "nbformat": 4,
 "nbformat_minor": 5
}
