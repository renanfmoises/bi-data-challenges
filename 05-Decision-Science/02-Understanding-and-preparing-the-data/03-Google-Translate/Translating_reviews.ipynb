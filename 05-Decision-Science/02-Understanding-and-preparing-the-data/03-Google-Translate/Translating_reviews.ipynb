{
 "cells": [
  {
   "cell_type": "markdown",
   "metadata": {},
   "source": [
    "# Translating_reviews"
   ]
  },
  {
   "cell_type": "markdown",
   "metadata": {},
   "source": [
    "Excel has some tools that allows to translate text but they are not very practical when it comes to translate an entire column with thousands of observations ! Just for this exercise we are going to use google sheets ! \n",
    "\n",
    "Load the document olist_order_reviews into google sheet and use the following formula to translate the reviews from portuguese into english. \n",
    "\n",
    "                                = GOOGLETRANSLATE(text, [source_language, target_language])"
   ]
  },
  {
   "cell_type": "code",
   "execution_count": null,
   "metadata": {},
   "outputs": [],
   "source": []
  },
  {
   "cell_type": "markdown",
   "metadata": {},
   "source": [
    "####  If you want to know more about the Google translate with sheets click [here](https://support.google.com/docs/answer/3093331?hl=en)"
   ]
  },
  {
   "cell_type": "markdown",
   "metadata": {},
   "source": [
    "![data_columns](https://github.com/dajuca/images/blob/main/google_translate.png?raw=true)"
   ]
  },
  {
   "cell_type": "markdown",
   "metadata": {},
   "source": [
    "Save your translated google sheet document as an excel doc and add it to your database. Read a couple ones and try to see why are the customers putting bad reviews ? "
   ]
  }
 ],
 "metadata": {
  "kernelspec": {
   "display_name": "Python 3",
   "language": "python",
   "name": "python3"
  },
  "language_info": {
   "codemirror_mode": {
    "name": "ipython",
    "version": 3
   },
   "file_extension": ".py",
   "mimetype": "text/x-python",
   "name": "python",
   "nbconvert_exporter": "python",
   "pygments_lexer": "ipython3",
   "version": "3.7.7"
  },
  "toc": {
   "base_numbering": 1,
   "nav_menu": {},
   "number_sections": true,
   "sideBar": true,
   "skip_h1_title": false,
   "title_cell": "Table of Contents",
   "title_sidebar": "Contents",
   "toc_cell": false,
   "toc_position": {},
   "toc_section_display": true,
   "toc_window_display": false
  }
 },
 "nbformat": 4,
 "nbformat_minor": 5
}
