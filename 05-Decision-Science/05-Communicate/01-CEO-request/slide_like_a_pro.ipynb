{
 "cells": [
  {
   "cell_type": "markdown",
   "metadata": {
    "slideshow": {
     "slide_type": "slide"
    }
   },
   "source": [
    "# How to slide like a pro?"
   ]
  },
  {
   "cell_type": "markdown",
   "metadata": {
    "slideshow": {
     "slide_type": "skip"
    }
   },
   "source": [
    "Try to understand this notebook and get inspiration for your slide-based presentation\n",
    "- Click on `View-->Cell Toolbar-->SlideShow` to display Slide Types\n",
    "- Click on `View-->Cell Toolbar-->Tags` to display Slide Tags\n",
    "\n",
    "Then, generate an html-slide version of this using the following command:\n",
    "\n",
    "```\n",
    "jupyter nbconvert slide_like_a_pro.ipynb --to slides --post serve \\\n",
    "--no-prompt \\\n",
    "--TagRemovePreprocessor.remove_input_tags=remove_input \\\n",
    "--TagRemovePreprocessor.remove_all_outputs_tags=remove_output\n",
    "```\n",
    "\n",
    "- `no-prompt` removes the In [xx]: and Out[xx]: to the left of each cells\n",
    "- `--TagRemovePreprocessor` allows you to not display either inputs or outputs of cells that have the associated Tag"
   ]
  },
  {
   "cell_type": "code",
   "execution_count": 11,
   "metadata": {
    "ExecuteTime": {
     "end_time": "2021-04-21T08:53:50.655887Z",
     "start_time": "2021-04-21T08:53:49.294507Z"
    },
    "slideshow": {
     "slide_type": "skip"
    }
   },
   "outputs": [
    {
     "name": "stdout",
     "output_type": "stream",
     "text": [
      "The autoreload extension is already loaded. To reload it, use:\n",
      "  %reload_ext autoreload\n"
     ]
    }
   ],
   "source": [
    "%load_ext autoreload\n",
    "%autoreload 2"
   ]
  },
  {
   "cell_type": "markdown",
   "metadata": {
    "slideshow": {
     "slide_type": "slide"
    }
   },
   "source": [
    "## How to visualize your PowerBi dashboards?\n",
    "\n",
    "In order to see the interactive dashboards from PowerBI you have to publish them (create a free trial account in order to be able to publish them)\n",
    "\n",
    "- Once you have the url corresponding to the dashboard the only thing you have to do is import  `Iframe from IPython.display`\n",
    "- Define the url corresponding to your report \n",
    "- Use the IFrame tool to visualize your interactive dashboard"
   ]
  },
  {
   "cell_type": "code",
   "execution_count": 12,
   "metadata": {
    "slideshow": {
     "slide_type": "subslide"
    }
   },
   "outputs": [
    {
     "data": {
      "text/html": [
       "\n",
       "        <iframe\n",
       "            width=\"800\"\n",
       "            height=\"600\"\n",
       "            src=\"https://app.powerbi.com/view?r=eyJrIjoiYjAzOGY3NGUtZTA5ZS00NDUzLWI4ZDktZGNiZjU4YzY3NmVmIiwidCI6IjNmZDdhMjQ1LWY0YmQtNDA1Zi1iZmMxLWJlZDI1YmRhMWMxOSJ9&pageName=ReportSection019db980d08c57768310&fbclid=IwAR0DEtzDbMR9Kjp_b52Usa5kyoMVi6OJtKgU3r4oV-Bn7lZ3GQM2qrLn-LU\"\n",
       "            frameborder=\"0\"\n",
       "            allowfullscreen\n",
       "        ></iframe>\n",
       "        "
      ],
      "text/plain": [
       "<IPython.lib.display.IFrame at 0x1248d81d0>"
      ]
     },
     "execution_count": 12,
     "metadata": {},
     "output_type": "execute_result"
    }
   ],
   "source": [
    "from IPython.display import IFrame\n",
    "url = 'https://app.powerbi.com/view?r=eyJrIjoiYjAzOGY3NGUtZTA5ZS00NDUzLWI4ZDktZGNiZjU4YzY3NmVmIiwidCI6IjNmZDdhMjQ1LWY0YmQtNDA1Zi1iZmMxLWJlZDI1YmRhMWMxOSJ9&pageName=ReportSection019db980d08c57768310&fbclid=IwAR0DEtzDbMR9Kjp_b52Usa5kyoMVi6OJtKgU3r4oV-Bn7lZ3GQM2qrLn-LU'\n",
    "IFrame(url, width=800, height=600)"
   ]
  },
  {
   "cell_type": "code",
   "execution_count": 14,
   "metadata": {},
   "outputs": [
    {
     "name": "stdout",
     "output_type": "stream",
     "text": [
      "[NbConvertApp] Converting notebook slide_like_a_pro.ipynb to slides\n",
      "[NbConvertApp] Writing 280967 bytes to slide_like_a_pro.slides.html\n",
      "[NbConvertApp] Redirecting reveal.js requests to https://cdnjs.cloudflare.com/ajax/libs/reveal.js/3.5.0\n",
      "Serving your slides at http://127.0.0.1:8000/slide_like_a_pro.slides.html\n",
      "Use Control-C to stop this server\n",
      "WARNING:tornado.access:404 GET /custom.css (127.0.0.1) 0.89ms\n",
      "WARNING:tornado.access:404 GET /custom.css (127.0.0.1) 0.79ms\n",
      "^C\n",
      "\n",
      "Interrupted\n"
     ]
    }
   ],
   "source": [
    "!jupyter nbconvert --to slides --post serve slide_like_a_pro.ipynb"
   ]
  },
  {
   "cell_type": "markdown",
   "metadata": {
    "slideshow": {
     "slide_type": "skip"
    }
   },
   "source": [
    "## You can see that even in the presentation the dashboard still interactive 😁"
   ]
  },
  {
   "cell_type": "code",
   "execution_count": null,
   "metadata": {},
   "outputs": [],
   "source": []
  }
 ],
 "metadata": {
  "celltoolbar": "Slideshow",
  "kernelspec": {
   "display_name": "Python 3",
   "language": "python",
   "name": "python3"
  },
  "language_info": {
   "codemirror_mode": {
    "name": "ipython",
    "version": 3
   },
   "file_extension": ".py",
   "mimetype": "text/x-python",
   "name": "python",
   "nbconvert_exporter": "python",
   "pygments_lexer": "ipython3",
   "version": "3.7.7"
  },
  "toc": {
   "base_numbering": 1,
   "nav_menu": {},
   "number_sections": false,
   "sideBar": true,
   "skip_h1_title": false,
   "title_cell": "Table of Contents",
   "title_sidebar": "Contents",
   "toc_cell": false,
   "toc_position": {},
   "toc_section_display": true,
   "toc_window_display": false
  }
 },
 "nbformat": 4,
 "nbformat_minor": 5
}
