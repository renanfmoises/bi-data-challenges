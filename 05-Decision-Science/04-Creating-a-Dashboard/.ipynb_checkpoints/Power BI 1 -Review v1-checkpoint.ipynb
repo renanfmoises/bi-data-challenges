{
 "cells": [
  {
   "cell_type": "markdown",
   "id": "5ae2c9de",
   "metadata": {
    "slideshow": {
     "slide_type": "slide"
    }
   },
   "source": [
    "# Power BI - Data transformation review"
   ]
  },
  {
   "cell_type": "markdown",
   "id": "571446f8",
   "metadata": {
    "slideshow": {
     "slide_type": "slide"
    }
   },
   "source": [
    "## Summary\n",
    "\n",
    "### 1. Query Editor\n",
    "\n",
    "### 2. Data Transformation\n",
    "\n",
    "### 3. Manage Query relationships\n",
    "\n",
    "### 4. DAX Functions"
   ]
  },
  {
   "cell_type": "markdown",
   "id": "6d6090f6",
   "metadata": {
    "slideshow": {
     "slide_type": "slide"
    }
   },
   "source": [
    "# 1. Query Editor"
   ]
  },
  {
   "cell_type": "markdown",
   "id": "9df4a0d1",
   "metadata": {
    "slideshow": {
     "slide_type": "subslide"
    }
   },
   "source": [
    "## Power BI offers a powerful query editor , that allows the user to connect to plentiful data sources and provides a tool to tailor our data based on the business needs."
   ]
  },
  {
   "cell_type": "markdown",
   "id": "3135a6f4",
   "metadata": {
    "slideshow": {
     "slide_type": "subslide"
    }
   },
   "source": [
    "![GitHub](https://github.com/CamVil1230/PowerBI/blob/main/C1B4C269-B1D9-4B2F-8D7B-3A47C85F0CE3.GIF?raw=true \"Pwbi\")"
   ]
  },
  {
   "cell_type": "markdown",
   "id": "a62b2b23",
   "metadata": {
    "slideshow": {
     "slide_type": "subslide"
    }
   },
   "source": [
    "### 1.1 Query editor window\n",
    "\n",
    "![GitHub](https://github.com/CamVil1230/PowerBI/blob/main/Images/QueryEd1.jpg?raw=true \"Pwbi1\")"
   ]
  },
  {
   "cell_type": "markdown",
   "id": "d423b433",
   "metadata": {
    "slideshow": {
     "slide_type": "slide"
    }
   },
   "source": [
    "# 2. Data Transformation"
   ]
  },
  {
   "cell_type": "markdown",
   "id": "1b0e1ea7",
   "metadata": {
    "slideshow": {
     "slide_type": "subslide"
    }
   },
   "source": [
    "## 2.1 Transformation tools\n",
    "\n",
    "#### The query editor ribbon  \n",
    "The query editor ribbon has **4 tabs**, of which the **2** most **essential** are: _**Transform**_ ,_**Add Column**_  \n",
    "![GitHub](https://github.com/CamVil1230/PowerBI/blob/main/Images/trandform%20data%202_2_1.png?raw=true \"pwbi2\")"
   ]
  },
  {
   "cell_type": "markdown",
   "id": "e02302a1",
   "metadata": {
    "slideshow": {
     "slide_type": "subslide"
    }
   },
   "source": [
    "#### **Transform Tab**\n",
    "The _**Transform tab**_ provides access to tasks for formatting and editing data, such as changing a value or data type.\n",
    "![GitHub](https://github.com/CamVil1230/PowerBI/blob/main/Images/trandform%20data%202_2_2%20transform%20tab.png?raw=true \"pwbi3\")\n",
    "#### **Add Column Tab**\n",
    "The Add _**Column tab**_ allows you to add custom, from example and conditional columns.\n",
    "![GitHub](https://github.com/CamVil1230/PowerBI/blob/main/Images/trandform%20data%202_2_2%20addcolumn%20tab.png?raw=true \"pwbi4\")"
   ]
  },
  {
   "cell_type": "markdown",
   "id": "9617e8a8",
   "metadata": {
    "slideshow": {
     "slide_type": "subslide"
    }
   },
   "source": [
    "### **Split Column _Example 1_**\n",
    "**Power BI** should automatically identify the file type and split the data within accordingly.However, sometimes the format of the query is not presented as intended, due to the **“;”** , to transform our data follow the next steps: \n",
    "![GitHub](https://github.com/CamVil1230/PowerBI/blob/main/Images/SplitColumn.gif?raw=true \"Pwbi5\")"
   ]
  },
  {
   "cell_type": "markdown",
   "id": "377da651",
   "metadata": {
    "slideshow": {
     "slide_type": "subslide"
    }
   },
   "source": [
    "### **Column From Examples _Example 2_**\n",
    "Power BI has a function that allows us in the query editor to create columns by creating an example based on our input. As the power BI documentation states:\n",
    ">_“With add column from examples in Power Query Editor, you can add new columns to your data model simply by providing one or more example values for the new columns. You can create the new column examples from a selection, or provide input based on all existing columns in the table.”_\n",
    "\n",
    "![GitHub](https://github.com/CamVil1230/PowerBI/blob/main/Images/Columnfromexamplesv3.gif?raw=true \"Pwbi6\")"
   ]
  },
  {
   "cell_type": "markdown",
   "id": "86d91182",
   "metadata": {
    "slideshow": {
     "slide_type": "subslide"
    }
   },
   "source": [
    "## We will work in detail these concepts at the end of this brief re-introduction to Power Bi"
   ]
  },
  {
   "cell_type": "markdown",
   "id": "37c94639",
   "metadata": {
    "slideshow": {
     "slide_type": "slide"
    }
   },
   "source": [
    "# 3. Manage Query Relationships"
   ]
  },
  {
   "cell_type": "markdown",
   "id": "a00ed379",
   "metadata": {
    "slideshow": {
     "slide_type": "subslide"
    }
   },
   "source": [
    "## Power BI allows the user to create different relationships within the data queries. \n",
    "> This feature allows you to filter, connect, and manage data from one query to another. \n",
    "![GitHub](https://github.com/CamVil1230/PowerBI/blob/main/Images/ModelRelationships.gif?raw=true \"Pwbi7\")\n",
    ">To better understand this characteristic, we need to review the concept of cardinality\n",
    "\n"
   ]
  },
  {
   "cell_type": "markdown",
   "id": "d4065786",
   "metadata": {
    "slideshow": {
     "slide_type": "subslide"
    }
   },
   "source": [
    "## 3.1 Cardinality\n",
    "\n",
    "## The Cardinality option can have one of the following settings:\n",
    "\n",
    "**Many to one (*:1):** _A many-to-one relationship is the most common, default type of relationship. It means the column in a given table can have more than one instance of a value, and the other related table, often known as the lookup table, has only one instance of a value_.\n",
    "\n",
    "![GitHub](https://github.com/CamVil1230/PowerBI/blob/main/Images/1%20to%20many.png?raw=true \"pwbi8\")\n",
    "\n",
    "\n"
   ]
  },
  {
   "cell_type": "markdown",
   "id": "5b75db39",
   "metadata": {
    "slideshow": {
     "slide_type": "subslide"
    }
   },
   "source": [
    "## 3.1 Cardinality\n",
    "\n",
    "**One to one (1:1)**: _In a one-to-one relationship, the column in one table has only one instance of a particular value, and the other related table has only one instance of a particular value._\n",
    "\n",
    "![GitHub](https://github.com/CamVil1230/PowerBI/blob/main/Images/1%20to%201.png?raw=true \"pwbi9\")"
   ]
  },
  {
   "cell_type": "markdown",
   "id": "fc8c4530",
   "metadata": {
    "slideshow": {
     "slide_type": "subslide"
    }
   },
   "source": [
    "## 3.1 Cardinality\n",
    "\n",
    "**Many to many (*: *)**:_ With composite models, you can establish a many-to-many relationship between tables, which removes requirements for unique values in tables. It also removes previous workarounds, such as introducing new tables only to establish relationships_\n",
    "\n",
    "![GitHub](https://github.com/CamVil1230/PowerBI/blob/main/Images/Many%20to%20Many.png?raw=true \"pwbi10\")"
   ]
  },
  {
   "cell_type": "markdown",
   "id": "cb01e349",
   "metadata": {
    "slideshow": {
     "slide_type": "subslide"
    }
   },
   "source": [
    "## 3.2 Create a Query relationship\n",
    "Power BI will automatically detect the relationships between the queries in the model. Nonetheless we have to observe the relationships between the data, and if necessary, create or delete the latter in the relationships ribbon.\n",
    ">Here you will find an easy way to create relationships:\n",
    "\n",
    "![GitHub](https://github.com/CamVil1230/PowerBI/blob/main/Images/Create%20a%20relationship.gif?raw=true \"pwbi11\")\n"
   ]
  },
  {
   "cell_type": "markdown",
   "id": "d6007ed4",
   "metadata": {
    "slideshow": {
     "slide_type": "subslide"
    }
   },
   "source": [
    "## 3.2 Create a Query relationship- tip\n",
    "To perform some crosscalculations between the queries in the model , do not forget to modify the properties of the relationship by selectiong the **crossfilter direction** (2) to _Both_ in the window properties(1) of the relationship.\n",
    "![GitHub](https://github.com/CamVil1230/PowerBI/blob/main/Images/Crossfilterdirection.png?raw=true)"
   ]
  },
  {
   "cell_type": "markdown",
   "id": "8a4b8a8a",
   "metadata": {
    "slideshow": {
     "slide_type": "slide"
    }
   },
   "source": [
    "# 4. DAX Functions"
   ]
  },
  {
   "cell_type": "markdown",
   "id": "c6c20725",
   "metadata": {
    "slideshow": {
     "slide_type": "subslide"
    }
   },
   "source": [
    "## The Data Analysis Expressions (DAX) is a collection of functions, operators, and constants that can otherwise be used in a formula, or expression, to calculate and return one or more values. \n",
    ">Functions are predefined formulas that perform calculations using specific values, called arguments.\n",
    "\n"
   ]
  },
  {
   "cell_type": "markdown",
   "id": "1d15e479",
   "metadata": {
    "slideshow": {
     "slide_type": "subslide"
    }
   },
   "source": [
    "## 4.1 DAX Functions categories\n",
    "### DAX includes functions of various categories:\n",
    "1. Date and time functions (DATE, HOUR, NOW, WEEKDAY) \n",
    "2. Text functions (UPPER, REPLACE, CONCATENATE) \n",
    "3. Logical functions (AND, OR, IF) \n",
    "4. Time Intelligence Functions (TOTALYTD, PARALLELPERIOD, ENDOFYEAR) \n",
    "5. Filtering functions (ALL, FILTER, CALCULATE)"
   ]
  },
  {
   "cell_type": "markdown",
   "id": "b7a22b0d",
   "metadata": {
    "slideshow": {
     "slide_type": "subslide"
    }
   },
   "source": [
    "## 4.1 DAX Functions Syntax\n",
    "\n",
    "1. The syntax includes different elements that make up a formula :\n",
    "    1. The name of the measure. \n",
    "    2. The (=) operator indicates the beginning of the formula. \n",
    "    3. The SUM function sums the numbers in the **[Base to]** column of the **[State_purchases]** table.\n",
    "    4. Arguments: Table and column.\n",
    "    \n",
    "    ![GitHub](https://github.com/CamVil1230/PowerBI/blob/main/Images/DAX1.png?raw=true \"pwbi12\")\n",
    " "
   ]
  },
  {
   "cell_type": "markdown",
   "id": "b1f134d7",
   "metadata": {
    "slideshow": {
     "slide_type": "subslide"
    }
   },
   "source": [
    "## 4.1 DAX Functions Examples\n",
    "\n",
    "### Date & Hour Functions\n",
    "![GitHub](https://github.com/CamVil1230/PowerBI/blob/main/Images/DAXyear.png?raw=true \"pwbi13\")\n",
    "### Text Functions\n",
    "![GitHub](https://github.com/CamVil1230/PowerBI/blob/main/Images/DAXTxt.png?raw=true \"pwbi14\")\n",
    "### Logic Functions\n",
    "![GitHub](https://github.com/CamVil1230/PowerBI/blob/main/Images/ifdaxv2.png?raw=true \"pwbi15\")\n"
   ]
  },
  {
   "cell_type": "markdown",
   "id": "35c34241",
   "metadata": {
    "slideshow": {
     "slide_type": "subslide"
    }
   },
   "source": [
    "## 4.1 DAX Functions Examples\n",
    "\n",
    "### Time intelligence Functions\n",
    "![GitHub](https://github.com/CamVil1230/PowerBI/blob/main/Images/DAXtimeint.png?raw=true \"pwbi16\")\n",
    "### Filter Functions\n",
    "![GitHub](https://github.com/CamVil1230/PowerBI/blob/main/Images/FilterDAX.png?raw=true \"pwbi17\")"
   ]
  }
 ],
 "metadata": {
  "celltoolbar": "Diaporama",
  "kernelspec": {
   "display_name": "Python 3",
   "language": "python",
   "name": "python3"
  },
  "language_info": {
   "codemirror_mode": {
    "name": "ipython",
    "version": 3
   },
   "file_extension": ".py",
   "mimetype": "text/x-python",
   "name": "python",
   "nbconvert_exporter": "python",
   "pygments_lexer": "ipython3",
   "version": "3.8.8"
  }
 },
 "nbformat": 4,
 "nbformat_minor": 5
}
