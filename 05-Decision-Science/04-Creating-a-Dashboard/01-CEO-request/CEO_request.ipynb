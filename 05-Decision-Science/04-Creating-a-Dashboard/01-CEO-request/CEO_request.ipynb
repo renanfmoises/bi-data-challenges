{
 "cells": [
  {
   "cell_type": "markdown",
   "metadata": {},
   "source": [
    "# CEO Request"
   ]
  },
  {
   "cell_type": "markdown",
   "metadata": {},
   "source": [
    "## Exercices Overview\n",
    "\n",
    "In this exercise, we will merge tables that will allow us to integrate the `Data Visualization Tool` package into Power BI. \n",
    "This way, we can start creating reports that will help us visualize and better communicate our data.\n",
    "\n",
    "We will use  : \n",
    " - Power BI visuals\n",
    " - DAX Formulae (basic and intermediate)\n",
    " - Query and tables creation\n",
    "  \n",
    "### Learning Objectives\n",
    "\n",
    "- Get at ease with Power BI\n",
    "- Be able to create the important variables in any database\n",
    "- Create the KPI to answer to any request."
   ]
  },
  {
   "cell_type": "markdown",
   "metadata": {},
   "source": [
    "## CEO-Request Challenge\n",
    "\n",
    "**OLIST** **CEO** and **CFO** require our data analytics team to help them understand the company's performance. \n",
    "To meet this demand, the team will conduct an in-depth analysis of business profitability.  \n",
    "\n",
    "What variables can we adjust to increase the company's profit?\n",
    "*\tShould OLIST remove underperforming sellers? \n",
    "*\tDoes OLIST need to adjust its product catalog? \n",
    "*\tShould OLIST focus only on the most lucrative areas of Brazil?\n",
    "\n",
    "<details>\n",
    "<summary>✔️ Hint (click)</summary>\n",
    "<br> In this exercise, we will apply all the knowledge gained throughout this bootcamp.Apply the knowledge you gained when you learned all the statistical analysis tools in the Power query /Excel modules.</details>\n",
    "\n"
   ]
  },
  {
   "cell_type": "markdown",
   "metadata": {},
   "source": [
    "## Hypothesis\n",
    "\n",
    "#### Unit Economics _Revenue_\n",
    "\n",
    "* Olist takes a **10%** cut on the product price (excl. freight) of each order delivered.\n",
    "* Olist charges **80 BRL** by month per seller.\n",
    "\n",
    "#### Unit Economics _Cost_\n",
    "\n",
    "In the long term, bad customer experience has business implications: low repeat rate, immediate customer support cost, refunds or unfavorable word of mouth communication. We will assume that we have an estimate measure of the **monetary cost for each bad review:**\n"
   ]
  },
  {
   "cell_type": "markdown",
   "metadata": {},
   "source": [
    "| Review Score  | Cost (BRL)   |\n",
    "|--- |---  |\n",
    "| 1 star   | 100 | \n",
    "| 2 stars  |  50 | \n",
    "| 3 stars  |  40 | \n",
    "| 4 stars  |  0 | \n",
    "| 5 stars  |  0 | \n"
   ]
  },
  {
   "cell_type": "markdown",
   "metadata": {},
   "source": [
    "In addition, Olist’s IT costs (servers, etc…) increase with the number of orders processed, albeit less and less rapidly (scale effects).\n",
    "\n",
    "To this date, the IT department also told you that since the birth of the marketplace, **cumulated IT costs have amounted to 500,000 BRL**.\n"
   ]
  },
  {
   "cell_type": "markdown",
   "metadata": {},
   "source": [
    " ## Exercise 1 ✏️\n",
    "\n",
    "Today, we will establish the profitability of  the business  via the **seller_id**, **orders**, and their associated **review_score**.\n",
    "\n",
    "For that purpose, we will create a matrix table containing **all sellers** , as a pivot, to obtain the profit of the business.\n",
    "\n",
    "Our objective is to create:\n",
    "*  The simple P&L statement to answer to our CEO request.\n",
    "*  The KPI to create our dynamic dashboards. (Excercise 2 ⏬)\n",
    "\n",
    "1.\tImport all the .csv files to Power BI. \n",
    "<details>\n",
    "<summary>✔️ Hint (click)</summary>\n",
    "<br>(You can import the queries that you have developed in these last modules using the Power Query method explained in the previous modules.)</details>\n",
    "\n",
    "\n",
    "\n",
    "2.\tCreate a Matrix that contains the following data:\n",
    "\n",
    "  - `[First order]` (_date) the date of the 1st order_\n",
    "  - `[Last Order] ` (_date) the date of the last order_\n",
    "  - `[Olist Duration] ` (_float) The duration of a determined seller in the OLIST data system(The difference between the 1 & last order)_\n",
    "  - `[Number of Reviews]` (_int) 1 Number of reviews by seller_id_\n",
    "  - `[1 Star reviews] ` (_int) Number of 1 star reviews by seller_id_\n",
    "  - `[%1 Star reviews]`(_float) % of 1 stars of the total of 1 Star reviews_\n",
    "  - `[Costs]` (_Double) Costs associated by the bad reviews_\n",
    "  - `[Price]` (_Double) Price at which an order is processed_\n",
    "  - `[Total revenues]` (_Double) Revenue of the service_\n",
    "  - `[Profit] (Excluding IT Costs) ` (_Double) Profit if the olist service excluding the total of the IT costs_\n",
    "    \n",
    "    <details>\n",
    "    <summary>✔️ Hint (click)</summary>\n",
    "\n",
    "    | seller_id | Average of Deliver vs estimated | Earliest order_approved_at min per seller_id | Latest order_approved_at max per seller_id |  olist_duration | Count of review_score | 1 StarsReviews  | %GT 1 StarsReviews | Average of review_score | Orders | OrderDelivered | Costs | price | Total Revenues | Profit excl IT costs |\n",
    "    |--- |--- |--- |--- |--- |--- |--- |--- |--- |--- |--- |--- |--- |--- |---|\n",
    "    | 6560211a19b47992c3666cc44a7e94c0  |  -11,49  |  17/02/2017 00:00  |  29/08/2018 00:00  |  18  |  1860  |  238  |  2,01%  |  3,92  |  1854  |  1819  |  36270,00  |  123305  |  10974,39  |  -25295,61  | \n",
    "    | edb1ef5e36e0c8cd84eb3c9b003e486d  |  -13,5  |  30/09/2017 00:00  |  20/08/2018 00:00  |  11  |  166  |  11  |  0,09%  |  4,42  |  166  |  165  |  1520,00  |  79285  |  8417,95  |  -6897,95  | \n",
    "    | …  |  …  |  …  |  …  |  …  |  …  |  …  |  …  |  …  |  …  |  …  |  …  |  …  |  …  |  … | \n",
    "    | …  |  …  |  …  |  …  |  …  |  …  |  …  |  …  |  …  |  …  |  …  |  …  |  …  |  …  |  … | \n",
    "    | fa1c13f2614d7b5c4749cbc52fecda94  |  -10,31  |  07/01/2017 00:00  |  29/08/2018 00:00  |  19  |  585  |  52  |  0,44%  |  4,33  |  585  |  578  |  6750,00  |  194042  |  19919,93  |  13169,93  | \n",
    "    | 7e93a43ef30c4f03f38b393420bc753a  |  -12,21  |  08/10/2016 00:00  |  14/07/2018 00:00  |  21  |  336  |  35  |  0,30%  |  4,21  |  336  |  319  |  4800,00  |  176432  |  18690,97  |  13890,97  | \n",
    "    | 53243585a1d6dc2643021fd1853d8905  |  -11,48  |  28/08/2017 00:00  |  21/08/2018 00:00  |  12  |  358  |  35  |  0,30%  |  4,12  |  358  |  348  |  5270,00  |  222776  |  21929,54  |  16659,54  | \n",
    "    | **TOTAL**  |    |    |    |  17 776  |  100 000  |  11 858  |  100%  |  4  |  99441  |  96476  |  1679030,00  |  13591644,00  |  2555253,42  |  871853,42  |\n",
    "\n",
    "    </details>"
   ]
  },
  {
   "cell_type": "markdown",
   "metadata": {},
   "source": [
    "✏️ **Exercise** Guide :\n",
    "\n",
    "In a **new** Power BI Sheet Create a matrix via the visualization tools :\n",
    "![GitHub](https://github.com/CamVil1230/PowerBI/blob/main/Images/Matrix%20icon.png?raw=true)"
   ]
  },
  {
   "cell_type": "markdown",
   "metadata": {},
   "source": [
    "* To build this matrix, create first **data variables**  :\n",
    "    `[First order]` & `[Last order]`\n",
    "<details>\n",
    "<summary>✔️ Hint (click)</summary>\n",
    "<br> Use the Quick Measure tool as explained in this module support (4.1.3 Quick Measures) .</details>\n",
    "\n"
   ]
  },
  {
   "cell_type": "markdown",
   "metadata": {},
   "source": [
    "\n",
    "* Continue by calculating the **duration** of a Seller in the OLIST System :\n",
    "    `[Olist Duration]` \n",
    "<details>\n",
    "<summary>✔️ Hint (click)</summary>\n",
    "<br> Utilize the DAX formula *DATEDIFF* (in months) between the [First order] & [Last order].</details>"
   ]
  },
  {
   "cell_type": "markdown",
   "metadata": {},
   "source": [
    "\n",
    "* Next , get the number of reviews by seller :\n",
    "    `[Number of Reviews]` \n",
    "<details>\n",
    "<summary>✔️ Hint (click)</summary>\n",
    "<br> Utilize the DAX formula *COUNT* by right-clicking [review_score] and selecting count</details>\n",
    "\n"
   ]
  },
  {
   "cell_type": "markdown",
   "metadata": {},
   "source": [
    "* Afterwards , get the number of 1 star reviews by seller , create a new measure by the name of :\n",
    "    `[1 star review]` , here you will sum the reviews that contains **1** as their review score.\n",
    " \n",
    "    <details> \n",
    "    <summary>✔️ Hint (click)</summary>\n",
    "     Create a new measure with the CALCULATE & SUM & IN functions. If necessary the detailed formula is in 🚩.\n",
    "       <details>\n",
    "       <summary>🚩 Hint/Solution (DAX Formula)  (click)</summary>\n",
    "       1 StarsReviews = CALCULATE(SUM('olist_order_reviews_dataset'[review_score]),            'olist_order_reviews_dataset'[review_score] IN { 1 }).</details>\n",
    "        </details> \n",
    "    \n",
    "        \n",
    "* You can replicate this measure to calculate the **2 & 3 star reviews**.\n"
   ]
  },
  {
   "cell_type": "markdown",
   "metadata": {},
   "source": [
    "* Following the last step , calculate the share of 1 star reviews by seller :\n",
    "    `[% GT1 star review]`\n",
    "    <details>\n",
    "    <summary>✔️ Hint (click)</summary>\n",
    "<br> Add again [1 star review] to the matrix, then click the variable and select show as a % of the grand total .</details>"
   ]
  },
  {
   "cell_type": "markdown",
   "metadata": {},
   "source": [
    "* Create a new Column that where we will calculate the `[Costs]` , this measure is a relationship between the **monetary cost for each bad review** and the review by **order_id**\n",
    "    <details>\n",
    "    \n",
    "    <summary>✔️ Hint (click)</summary>\n",
    "<br> Use the RELATE formula as explained in this module support (4.2.1 Relate Function _Power BI V-LOOKUP)</details>"
   ]
  },
  {
   "cell_type": "markdown",
   "metadata": {},
   "source": [
    "* Add the `[Price]` variable to the matrix _(olist_order_items_dataset)_"
   ]
  },
  {
   "cell_type": "markdown",
   "metadata": {},
   "source": [
    " * Create a new Column that where we will calculate the `[Total revenues]`of OLIST. \n",
    " <details>\n",
    " <summary>✔️ Hint (click)</summary>\n",
    "This measure is a difference between the [Price] and the [Freight Costs] of the orders multiplied by 10%(OLIST commission). In addition, you also need to account for the monthly OLIST fees invoices to its sellers. </details>\n",
    "<details>\n",
    "<summary>✔️ Hint 2 (click)</summary>\n",
    "For simplicity, you can perform this measurement on a DAX formula, or create the independent calculations by creating an individual measure by calculation.    \n",
    "</details>    "
   ]
  },
  {
   "cell_type": "markdown",
   "metadata": {},
   "source": [
    " * Finally create a new measure that where we will calculate the `[Profit] (Excluding IT Costs)` of OLIST. \n",
    " <details>\n",
    " <summary>✔️ Hint (click)</summary>\n",
    "    This measure is a difference between the [Total Revenues] and the [Costs] of the orders.If necessary the detailed formula is in 🚩\n",
    " <details>\n",
    "    <summary><b> 🚩Hint/Solution (DAX Formula) (click)</b></summary>\n",
    "    <i>Profit excl IT costs = SUMX(\n",
    "    KEEPFILTERS(VALUES('olist_sellers_dataset'[seller_id])),CALCULATE([Total Revenues]-[Costs]))</i>\n",
    "    </details>\n",
    "\n",
    "</details>\n",
    "\n",
    " "
   ]
  },
  {
   "cell_type": "markdown",
   "metadata": {},
   "source": [
    "## Exercise 2 ✏️\n",
    "### CEO Dashboard"
   ]
  },
  {
   "cell_type": "markdown",
   "metadata": {},
   "source": [
    "Once we have finalized our matrix , with the `[Profit] (Excluding IT Costs)` we will be able to create a dynamic dashboard to visualize and present our data.\n",
    "\n",
    "For that purpose, we will create a tab containing **Financial KPI** , another one with the **product category** , and finally one with the **CEO recommendations**. \n",
    "\n",
    "Our objective is for this excercise is to create a dashboard where you will answer the CEO request with a:\n",
    "\n",
    "*\tThe KPI / synthesis page.\n",
    "*\tAnother Axe of analysis to our case (optional)\n",
    "*\tThe recommendation to the CEO. \n"
   ]
  },
  {
   "cell_type": "markdown",
   "metadata": {},
   "source": [
    "`As an example, you can analyze the following dashboard, where we responded to the CEO's request and added more analysis axis to understand this case study.`"
   ]
  },
  {
   "cell_type": "code",
   "execution_count": 1,
   "metadata": {},
   "outputs": [
    {
     "data": {
      "text/html": [
       "\n",
       "        <iframe\n",
       "            width=\"800\"\n",
       "            height=\"600\"\n",
       "            src=\"https://app.powerbi.com/view?r=eyJrIjoiYjAzOGY3NGUtZTA5ZS00NDUzLWI4ZDktZGNiZjU4YzY3NmVmIiwidCI6IjNmZDdhMjQ1LWY0YmQtNDA1Zi1iZmMxLWJlZDI1YmRhMWMxOSJ9&pageName=ReportSection019db980d08c57768310&fbclid=IwAR0DEtzDbMR9Kjp_b52Usa5kyoMVi6OJtKgU3r4oV-Bn7lZ3GQM2qrLn-LU\"\n",
       "            frameborder=\"0\"\n",
       "            allowfullscreen\n",
       "        ></iframe>\n",
       "        "
      ],
      "text/plain": [
       "<IPython.lib.display.IFrame at 0x1041fe350>"
      ]
     },
     "execution_count": 1,
     "metadata": {},
     "output_type": "execute_result"
    }
   ],
   "source": [
    "from IPython.display import IFrame\n",
    "url = 'https://app.powerbi.com/view?r=eyJrIjoiYjAzOGY3NGUtZTA5ZS00NDUzLWI4ZDktZGNiZjU4YzY3NmVmIiwidCI6IjNmZDdhMjQ1LWY0YmQtNDA1Zi1iZmMxLWJlZDI1YmRhMWMxOSJ9&pageName=ReportSection019db980d08c57768310&fbclid=IwAR0DEtzDbMR9Kjp_b52Usa5kyoMVi6OJtKgU3r4oV-Bn7lZ3GQM2qrLn-LU'\n",
    "IFrame(url, width=800, height=600)"
   ]
  },
  {
   "cell_type": "markdown",
   "metadata": {},
   "source": [
    "### Let's try to recreate the KeyPerformace Indicators-TAB of the dashboard.\n",
    "\n",
    "![GitHub](https://github.com/CamVil1230/PowerBI/blob/main/Images/ExampleOlist1.png?raw=true)\n",
    "\n",
    "❗ Remember that this is only an example, you can change any of the information/ visuals in this dashboard, it will depend on your own analysis and ideas."
   ]
  },
  {
   "cell_type": "markdown",
   "metadata": {},
   "source": [
    " \n",
    " **1**. Lets take our CEO_Matrix and extract the data .csv to our work folder :\n",
    "\n",
    "\n",
    "<details>\n",
    " <summary>✔️ Hint (click)</summary>\n",
    " \n",
    "   ![github](https://github.com/CamVil1230/PowerBI/blob/main/Images/GIF%20save%20data1.gif?raw=true)\n",
    " \n",
    "</details>\n",
    " "
   ]
  },
  {
   "cell_type": "markdown",
   "metadata": {},
   "source": [
    "**2**. Charge the .csv to our Power BI file , and add a new tab. You can name this new tab as `KPI` \n",
    "![GitHub](https://github.com/CamVil1230/PowerBI/blob/main/Images/tab%20names.png?raw=true)\n",
    "* You may also have the next Fields :\n",
    "![GitHub](https://github.com/CamVil1230/PowerBI/blob/main/Images/Fields%20to%20PWBI.png?raw=true)"
   ]
  },
  {
   "cell_type": "markdown",
   "metadata": {},
   "source": [
    "**3**. Create the KPI , from `[Costs]` , `[Revenues]`, `[Profit]`, `[Net Profit]` using the following visual:\n",
    "![GitHub](https://github.com/CamVil1230/PowerBI/blob/main/Images/visual1.png?raw=false)\n",
    "\n",
    "🅰️ You can create the `[Net Profit]` by adding a new measure and substracting the IT costs"
   ]
  },
  {
   "cell_type": "markdown",
   "metadata": {},
   "source": [
    "\n",
    "<details>\n",
    " <summary>✔️ Hint (click)</summary>\n",
    " \n",
    "   ![github](https://github.com/CamVil1230/PowerBI/blob/main/Images/KPI%20hint2.png?raw=true)\n",
    " \n",
    "</details>"
   ]
  },
  {
   "cell_type": "markdown",
   "metadata": {},
   "source": [
    "* Additionally, you can create  a Gauge from `[Costs]` divided by `[Revenues]`(New Measure☝️), using the following visual:\n",
    "![GitHub](https://github.com/CamVil1230/PowerBI/blob/main/Images/visual4.png?raw=false)\n",
    "<details>\n",
    "<summary>✔️ Hint (click)</summary>\n",
    "    You can create the `[C/I]` by creating a new measure, and adding it to ther Gauge visual.\n",
    "    \n",
    "    Formula : <b>C/I = DIVIDE([Costs],[Total Revenues])</b>\n",
    "\n",
    "</details>\n"
   ]
  },
  {
   "cell_type": "markdown",
   "metadata": {},
   "source": [
    "**4**. Now , lets add a date filter to our Dashboard , \n",
    "\n",
    "\n",
    "\n",
    "![GitHub](https://github.com/CamVil1230/PowerBI/blob/main/Images/calendar%20years.png?raw=true)\n",
    "\n",
    "\n",
    "\n",
    " * To simplify this task download the [Dates PWBI Excel file](https://github.com/CamVil1230/PowerBI/blob/main/Dates%20PWBI.xlsx?raw=true) and add it to your PWBI File. (Do not forget to add a relation between `[Fullalternatedatekey]` and the `[orders_approved_at]`)\n",
    "\n"
   ]
  },
  {
   "cell_type": "markdown",
   "metadata": {},
   "source": [
    "* You can use the ** Filter/ Slicer ** tool to create the table above , adding the  `[Calendar Year]` from the file above.\n",
    "![GitHub](https://github.com/CamVil1230/PowerBI/blob/main/Images/visual2.png?raw=false)\n",
    "\n",
    "\n",
    "\n",
    "* Do not forget to select the slider/filter tool as a list (once the visual is ready) ⭐\n",
    "\n",
    "\n",
    "<details>\n",
    "<summary>✔️ Hint 1 (click)</summary>\n",
    " \n",
    "    1.\tCreate a relation between [Fullalternatedatekey] and the [orders approved at]\n",
    "    2.\tCreate the slicer. \n",
    "    3.\tChange the visual to a list.( In the visual right top corner )\n",
    "    4.\tGo to the format Tab, then in the \"General\" tab  select in orientation : Horizontal.\n",
    "    5.\t\n",
    "    6.\tGo to the filters Tab (in green) and select Basic Filtering.\n",
    "    7.\tFilter 2016,2017 & 2018.\n",
    "    8.\tThe slicer is ready.\n",
    "\n",
    "    \n",
    " \n",
    "</details>\n",
    "<details>\n",
    " <summary>✔️ Hint 2 (click)</summary>\n",
    " \n",
    "   ![github](https://github.com/CamVil1230/PowerBI/blob/main/Images/Instructions%20HINT.png?raw=true)\n",
    " \n",
    "</details>"
   ]
  },
  {
   "cell_type": "markdown",
   "metadata": {},
   "source": [
    "**5**. We could also add a map to our Dashboard , from which we can reprensent the profit/costs from all the regions (in Brazil) where OLIST is present.\n",
    "\n",
    "![GitHub](https://github.com/CamVil1230/PowerBI/blob/main/Images/visual3.png?raw=false)\n",
    "\n",
    " * To simplify this task download the [Brazil regions](https://github.com/CamVil1230/PowerBI/blob/main/Brazil%20States.xlsx?raw=true) and add it to your PWBI File. (Do not forget to add a relation with the `[State abbreviation]` and  `[Geolocalisation_State]`)\n",
    "* If you can't find this visual, consult the documentation to put the visual into the visaulizations toolbar . Find the documentation in the [Shape Maps PWBI by Microsoft](https://docs.microsoft.com/en-us/power-bi/visuals/desktop-shape-map) page and add it to your PWBI File. ⚠️"
   ]
  },
  {
   "cell_type": "markdown",
   "metadata": {},
   "source": [
    "![GitHub](https://github.com/CamVil1230/PowerBI/blob/main/mapolistBR.png?raw=true)"
   ]
  },
  {
   "cell_type": "markdown",
   "metadata": {},
   "source": [
    "<details>\n",
    "<summary>✔️ Hint 1 (click)</summary>\n",
    " \n",
    "    1.\tGo to the format Tab, then in Shape select: Brazil: States \n",
    "    2.\tAdd the information, [State] as location and [Profit] as Tooltips\n",
    "    3.\tGo again to the format Tab and modify the data colors by clicking in Fx\n",
    "    4.\tSelect the color you wish to display ( in regards of the data you want to display)\n",
    "\n",
    "* You can use this visual to display any information you desire : `[Costs]` , `[Revenues]`, `[Profit]`, `[Net Profit]` \n",
    "    \n",
    " \n",
    "</details>\n",
    "<details>\n",
    " <summary>✔️ Hint 2 (click)</summary>\n",
    " \n",
    "   ![github](https://github.com/CamVil1230/PowerBI/blob/main/Images/Map%20order.png?raw=true)\n",
    " \n",
    "</details>"
   ]
  },
  {
   "cell_type": "markdown",
   "metadata": {},
   "source": [
    "6. **At this step you should be able to have a key performance indicartors (KPI) tab that looks like this** :\n",
    " \n",
    "![github](https://github.com/CamVil1230/PowerBI/blob/main/ExampleOlist2.png?raw=true)\n",
    "You can Download this [solution](https://github.com/CamVil1230/PowerBI/blob/main/CEO%20Dashboard.pbix?raw=true) and add it to your PWBI File. "
   ]
  },
  {
   "cell_type": "markdown",
   "metadata": {},
   "source": [
    "7. To finalize this Excercise try and complete the rest of the visuals and customizations. ❗\n",
    "\n",
    "<details>\n",
    " <summary>✔️ Hint (click)</summary>\n",
    "    To learn the rest of the customizations go back to the module <b>3. Power BI - Build a report</b> in the support of day 4.❗\n",
    "</details>"
   ]
  },
  {
   "cell_type": "code",
   "execution_count": null,
   "metadata": {},
   "outputs": [],
   "source": []
  }
 ],
 "metadata": {
  "kernelspec": {
   "display_name": "Python 3",
   "language": "python",
   "name": "python3"
  },
  "language_info": {
   "codemirror_mode": {
    "name": "ipython",
    "version": 3
   },
   "file_extension": ".py",
   "mimetype": "text/x-python",
   "name": "python",
   "nbconvert_exporter": "python",
   "pygments_lexer": "ipython3",
   "version": "3.7.7"
  },
  "toc": {
   "base_numbering": 1,
   "nav_menu": {},
   "number_sections": true,
   "sideBar": true,
   "skip_h1_title": false,
   "title_cell": "Table of Contents",
   "title_sidebar": "Contents",
   "toc_cell": false,
   "toc_position": {},
   "toc_section_display": true,
   "toc_window_display": false
  }
 },
 "nbformat": 4,
 "nbformat_minor": 5
}
