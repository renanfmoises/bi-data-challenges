{
 "cells": [
  {
   "cell_type": "markdown",
   "metadata": {
    "slideshow": {
     "slide_type": "slide"
    }
   },
   "source": [
    "# Power BI - Data Visualization"
   ]
  },
  {
   "cell_type": "markdown",
   "metadata": {
    "slideshow": {
     "slide_type": "slide"
    }
   },
   "source": [
    "## Summary\n",
    "\n",
    "### 1. Introduction\n",
    "\n",
    "### 2. Power BI - Visualizations Review\n",
    "\n",
    "### 3. Power BI - Build a report\n",
    "\n"
   ]
  },
  {
   "cell_type": "markdown",
   "metadata": {
    "slideshow": {
     "slide_type": "slide"
    }
   },
   "source": [
    "# 1. Introduction "
   ]
  },
  {
   "cell_type": "markdown",
   "metadata": {
    "slideshow": {
     "slide_type": "subslide"
    }
   },
   "source": [
    "# 1. Introduction\n",
    "\n",
    "In this module, we will review some interactive data visualization techniques for professional presentations. Especially how to create basic reports that will help us visualize and understand our data for business purposes. \n",
    "\n",
    "![GitHub](https://github.com/CamVil1230/PowerBI/blob/main/Images/Session2/2021-07-11_15-47-37.gif?raw=true \"pwbi1\")\n",
    "\n"
   ]
  },
  {
   "cell_type": "markdown",
   "metadata": {
    "slideshow": {
     "slide_type": "subslide"
    }
   },
   "source": [
    "# Example - Case Study\n",
    "\n",
    "#### _\"I Believe that we learn what we practice\"_\n",
    "   \n",
    "### To understand how we can capitalize on the potential of this software, We will learn via the following example how to take advantage of this analytics tool to explore our data, and present dynamic dashboards tailored to our business needs."
   ]
  },
  {
   "cell_type": "markdown",
   "metadata": {
    "slideshow": {
     "slide_type": "subslide"
    }
   },
   "source": [
    "## To begin with, we will explore the open source data provided by the French State Purchasing Directorate (DAE), which publishes the programming of purchases that ministries will potentially have to carry out over the period from October 2018 to the end of 2021.\n",
    "\n",
    "### We will explore how a custom dashboard works, and how the information is displayed to answer a question from the DAE in regards to the ministires expenses.\n",
    "\n",
    "![GitHub](https://github.com/CamVil1230/PowerBI/blob/main/Images/Session2/frrenchestat.png?raw=true)\n",
    "\n"
   ]
  },
  {
   "cell_type": "code",
   "execution_count": 2,
   "metadata": {
    "slideshow": {
     "slide_type": "subslide"
    }
   },
   "outputs": [
    {
     "data": {
      "text/html": [
       "\n",
       "        <iframe\n",
       "            width=\"800\"\n",
       "            height=\"600\"\n",
       "            src=\"https://app.powerbi.com/view?r=eyJrIjoiZGUxNmVmNzUtMjhjZi00NGEwLWJhZDctM2UzNTFlMGVjMmRlIiwidCI6IjNmZDdhMjQ1LWY0YmQtNDA1Zi1iZmMxLWJlZDI1YmRhMWMxOSJ9\"\n",
       "            frameborder=\"0\"\n",
       "            allowfullscreen\n",
       "        ></iframe>\n",
       "        "
      ],
      "text/plain": [
       "<IPython.lib.display.IFrame at 0x1dd1a14d070>"
      ]
     },
     "execution_count": 2,
     "metadata": {},
     "output_type": "execute_result"
    }
   ],
   "source": [
    "from IPython.display import IFrame\n",
    "url = 'https://app.powerbi.com/view?r=eyJrIjoiZGUxNmVmNzUtMjhjZi00NGEwLWJhZDctM2UzNTFlMGVjMmRlIiwidCI6IjNmZDdhMjQ1LWY0YmQtNDA1Zi1iZmMxLWJlZDI1YmRhMWMxOSJ9'\n",
    "IFrame(url, width=800, height=600)"
   ]
  },
  {
   "cell_type": "markdown",
   "metadata": {
    "slideshow": {
     "slide_type": "subslide"
    }
   },
   "source": [
    "## Take your time to analyze all aspects of this dashboard"
   ]
  },
  {
   "cell_type": "markdown",
   "metadata": {
    "slideshow": {
     "slide_type": "slide"
    }
   },
   "source": [
    "# 2. Power BI - Visualizations Review"
   ]
  },
  {
   "cell_type": "markdown",
   "metadata": {
    "slideshow": {
     "slide_type": "subslide"
    }
   },
   "source": [
    "# 2. Power BI - Visualizations Review\n",
    "    \n",
    "### 2.1 Visualizations Layer\n",
    "\n",
    "### 2.2 Dynamic Titles\n",
    "\n",
    "### 2.3 Dynamic Tooltips"
   ]
  },
  {
   "cell_type": "markdown",
   "metadata": {
    "slideshow": {
     "slide_type": "subslide"
    }
   },
   "source": [
    "### 2. Power BI - Visualizations Review\n",
    "\n",
    "Power bi offers a layer full of options when we want to create a custom visual. We have already discovered and applied many of the options in a previous session. \n",
    ">From a business perspective, the following are the most useful:\n",
    "\n",
    "![GitHub](https://github.com/CamVil1230/PowerBI/blob/main/Images/Session2/DatavisutableV3.png?raw=true \"2pwbi1\")"
   ]
  },
  {
   "cell_type": "markdown",
   "metadata": {
    "slideshow": {
     "slide_type": "subslide"
    }
   },
   "source": [
    "## 2.2 Dynamic Titles\n",
    "\n",
    "![GitHub](https://github.com/CamVil1230/PowerBI/blob/main/Images/Session2/dynamTitles.gif?raw=true)"
   ]
  },
  {
   "cell_type": "markdown",
   "metadata": {
    "slideshow": {
     "slide_type": "subslide"
    }
   },
   "source": [
    "## 2.2 Dynamic Titles\n",
    "\n",
    "You have the option in Power BI to vary the titles of your pages (or any other text) based on the value of one or more filters.\n",
    "\n",
    "This is possible thanks to the DAX functions **\"SelectedValue\"** and **\"Concatenate\"** whose syntaxes are:\n",
    "\n",
    "The **\"SelectedValue\"** function returns the value of, if only one value has been selected at the filter level. Otherwise, the value returned is (optional field).\n",
    "\n",
    "The **\"Concatenate\"** function returns a string from the concatenation of and.\n",
    "\n",
    "![GitHub](https://github.com/CamVil1230/PowerBI/blob/main/Images/Session2/howtodynamtitltes.png?raw=true\")\n",
    "\n",
    ">**CONCATENATE** (_Text1, Text2_)\n",
    ">**SELECTEDVALUE**(<_Field Name_>, _<OtherResult>_) "
   ]
  },
  {
   "cell_type": "markdown",
   "metadata": {
    "slideshow": {
     "slide_type": "subslide"
    }
   },
   "source": [
    "## 2.3 Dynamic Tooltips\n",
    "Tooltips are messages that appear on the screen when you hover over a visual on the page. They can be text or display the contents of another page of the report\n",
    "![GitHub](https://github.com/CamVil1230/PowerBI/blob/main/Images/Session2/dynamic%20tooltips.gif?raw=true)"
   ]
  },
  {
   "cell_type": "markdown",
   "metadata": {
    "slideshow": {
     "slide_type": "subslide"
    }
   },
   "source": [
    "## 2.3 Dynamic Tooltips\n",
    "Create a report page and set it as a **tooltip page**. To do this, after the page is created, click **Page size** in the Formatting section and choose **ToolTip** and then activate **ToolTip** from the Page Information menu in the Formatting section.\n",
    "![GitHub](https://github.com/CamVil1230/PowerBI/blob/main/Images/Session2/Tooltip%20creation.gif?raw=true)"
   ]
  },
  {
   "cell_type": "markdown",
   "metadata": {
    "slideshow": {
     "slide_type": "subslide"
    }
   },
   "source": [
    "\n",
    "To display a **tooltip**, you can:\n",
    "1. Either associate it with a **field**: \n",
    "     * By defining the fields for which you want to display the tooltip. This will then be displayed for all visuals using the selected fields. To do this, drag the affected fields into the **ToolTip ribbon** of the **Fields section**. \n",
    "2. Either associate it with a **visual** \n",
    "    * To do this, select the visual and then, in the Formatting section, **enable the ToolTip option** and select Report Page in the Type ribbon. Then choose the **ToolTip page** that you want to display in the **Page ribbon**.\n",
    "![GitHub](https://github.com/CamVil1230/PowerBI/blob/main/Images/Session2/tooltip%20image3.png?raw=true)\n",
    "    "
   ]
  },
  {
   "cell_type": "markdown",
   "metadata": {
    "slideshow": {
     "slide_type": "slide"
    }
   },
   "source": [
    "# 3. Power BI - Build a report"
   ]
  },
  {
   "cell_type": "markdown",
   "metadata": {
    "slideshow": {
     "slide_type": "subslide"
    }
   },
   "source": [
    "# 3. Power BI - Build a report\n",
    "    \n",
    "### 3.1 Set a background\n",
    "\n",
    "### 3.2 Buttons & Bookmarks"
   ]
  },
  {
   "cell_type": "markdown",
   "metadata": {
    "slideshow": {
     "slide_type": "subslide"
    }
   },
   "source": [
    "## 3.1 Set a background & Add custom shapes\n",
    "The background represents the entire visual part of the page of the report (the white area on which you can add elements).\n",
    "You can also add forms that will allow you to create personalized spaces where you will add your visuals, or titles.\n",
    "![GitHub](https://github.com/CamVil1230/PowerBI/blob/main/Images/Session2/background.gif?raw=true)\n"
   ]
  },
  {
   "cell_type": "markdown",
   "metadata": {
    "slideshow": {
     "slide_type": "subslide"
    }
   },
   "source": [
    "## 3.1 Buttons & Bookmarks\n",
    "The buttons will allow you to manipulate certain actions in the report (Show or hide items by bookmarks). You can also add bookmarks that will allow you to customize certain actions in the repport to make it more dynamic.\n",
    "![GitHub](https://github.com/CamVil1230/PowerBI/blob/main/Images/Session2/2021-07-11_15-47-37.gif?raw=true \"pwbi1\")"
   ]
  },
  {
   "cell_type": "markdown",
   "metadata": {
    "slideshow": {
     "slide_type": "subslide"
    }
   },
   "source": [
    "To add a book mark go to the view tab and enable **_Bookmarks & Selection_**\n",
    "![GitHub](https://github.com/CamVil1230/PowerBI/blob/main/Images/Session2/ribbon%20bookmarks.png?raw=true)\n",
    "\n",
    "There you can create(**_add bookmark_**) and manipulate the bookmark action via the **eye icon** in the selection tab.Then you can update the **bookmark** action.\n",
    "![GitHub](https://github.com/CamVil1230/PowerBI/blob/main/Images/Session2/bookmarkgif.gif?raw=true\")"
   ]
  },
  {
   "cell_type": "markdown",
   "metadata": {
    "slideshow": {
     "slide_type": "subslide"
    }
   },
   "source": [
    "## 3.1 Buttons & Bookmarks\n",
    "**Custom shapes** can be modified to perform actions within the report. To accomplish this , you can create a **custom shape** , go to  the **format tab** and add a custom action to the form. Once you click the form, your custom action will be performed.\n",
    "![GitHub](https://github.com/CamVil1230/PowerBI/blob/main/Images/Session2/formbutton.gif?raw=true)"
   ]
  },
  {
   "cell_type": "markdown",
   "metadata": {
    "slideshow": {
     "slide_type": "subslide"
    }
   },
   "source": [
    "## 3.1 Buttons & Bookmarks\n",
    "You can also use this feature to create dynamic reports as presentation:\n",
    "![GitHub](https://github.com/CamVil1230/PowerBI/blob/main/Images/Session2/presentationbuttons.gif?raw=true)"
   ]
  },
  {
   "cell_type": "markdown",
   "metadata": {
    "slideshow": {
     "slide_type": "subslide"
    }
   },
   "source": [
    "## 3.1 Buttons & Bookmarks\n",
    "To perform this action, you have to go to the **view tab**:\n",
    "![GitHub](https://github.com/CamVil1230/PowerBI/blob/main/Images/Session2/ribbon%20bookmarks.png?raw=true)\n",
    "Then , create a new **bookmark** (1), verify that the **eye icons** are all clear(2) , and then **update**(3) the bookmark.Finally,  and add a custom **action** (4) to the form/image of your choice to perform this feature.\n",
    "![GitHub](https://github.com/CamVil1230/PowerBI/blob/main/Images/Session2/tooltip%20image4.png?raw=true)"
   ]
  },
  {
   "cell_type": "markdown",
   "metadata": {
    "slideshow": {
     "slide_type": "slide"
    }
   },
   "source": [
    "# 4.Annex"
   ]
  },
  {
   "cell_type": "markdown",
   "metadata": {
    "slideshow": {
     "slide_type": "subslide"
    }
   },
   "source": [
    "## Example files composition:\n",
    "\n",
    "![GitHub](https://github.com/CamVil1230/PowerBI/blob/main/Images/Session2/FRexample1.png?raw=true \"2pwbi1\")\n",
    "\n"
   ]
  }
 ],
 "metadata": {
  "celltoolbar": "Diaporama",
  "kernelspec": {
   "display_name": "Python 3",
   "language": "python",
   "name": "python3"
  },
  "language_info": {
   "codemirror_mode": {
    "name": "ipython",
    "version": 3
   },
   "file_extension": ".py",
   "mimetype": "text/x-python",
   "name": "python",
   "nbconvert_exporter": "python",
   "pygments_lexer": "ipython3",
   "version": "3.7.7"
  },
  "toc": {
   "base_numbering": 1,
   "nav_menu": {},
   "number_sections": true,
   "sideBar": true,
   "skip_h1_title": false,
   "title_cell": "Table of Contents",
   "title_sidebar": "Contents",
   "toc_cell": false,
   "toc_position": {},
   "toc_section_display": true,
   "toc_window_display": false
  }
 },
 "nbformat": 4,
 "nbformat_minor": 5
}
